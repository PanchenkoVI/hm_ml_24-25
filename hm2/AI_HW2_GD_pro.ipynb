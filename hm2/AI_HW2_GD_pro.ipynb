{
 "cells": [
  {
   "cell_type": "markdown",
   "metadata": {
    "colab_type": "text",
    "id": "view-in-github"
   },
   "source": [
    "<a href=\"https://colab.research.google.com/github/Murcha1990/ML_AI24/blob/main/Hometasks/Pro/AI_HW2_GD_pro.ipynb\" target=\"_parent\"><img src=\"https://colab.research.google.com/assets/colab-badge.svg\" alt=\"Open In Colab\"/></a>"
   ]
  },
  {
   "cell_type": "markdown",
   "metadata": {
    "id": "lJ1Hwqs18fSZ"
   },
   "source": [
    "# **Домашнее задание 2: Градиентный спуск (pro)**\n",
    "\n",
    "В этом задании две части - теоретическая и практическая. Теорию можно набирать, используя LaTex или просто решать на листочке, сфотографировать и отправить вместе с заполненным ноутбуком в anytask.\n",
    "\n",
    "Максимальный балл за домашнее задание - 10."
   ]
  },
  {
   "cell_type": "markdown",
   "metadata": {
    "id": "EMZ5My7kiPY_"
   },
   "source": [
    "## Часть 1 (теоретическая)\n",
    "\n",
    "## Задание 1 (**1.5 балла**)\n",
    "\n",
    "В случае одномерной Ridge-регрессии минимизируется функция со штрафом:\n",
    "$$Q(w) = (y-xw)^T(y-xw)+\\lambda w^2,$$\n",
    "где $\\lambda$ - положительный параметр, штрафующий функцию за слишком большие значения $w$.\n",
    "\n",
    "1)  (**0.5 балла**) Найдите производную $\\nabla_w Q(w)$, выведите формулу для оптимального $w$.\n",
    "\n",
    "2) (**0.5 балла**) Найдите вторую производную $\\nabla^2_w Q(w)$. Убедитесь, что мы оказались в точке минимума.\n",
    "\n",
    "3) (**0.5 балла**) Выпишите шаг градиентного спуска в матричном виде."
   ]
  },
  {
   "cell_type": "code",
   "execution_count": null,
   "metadata": {},
   "outputs": [],
   "source": []
  },
  {
   "cell_type": "markdown",
   "metadata": {
    "id": "LQMI7b9Y9KvW"
   },
   "source": [
    "`Ваш ответ здесь`\n",
    "\n"
   ]
  },
  {
   "cell_type": "markdown",
   "metadata": {
    "id": "_pGazqdK9Tvf"
   },
   "source": [
    "## Часть 2 (практическая).\n",
    "\n",
    "## Задание 2 (**1 балл**)\n",
    "\n",
    "Дана функция: $$f(x) = x\\cdot sin(5x) + 0.1 \\cdot x^2$$\n",
    "\n",
    "Для этой функции:\n",
    "\n",
    "- [ ] Реализуйте (или возьмите рассмотренный на занятии) метод градиетного спуска с условием остановки `stop=1e^-6` и шагом `eta=0.001`. **Градиетный спуск обязательно должен сохранять траекторию движения.**\n",
    "- [ ] Задайте стартовые точки x0, равные 0, 0.5, 1\n",
    "- [ ] Реализуйте нахождение точек минимума и максимума функции $f(x)$ (для нахождения максимума нам нужно в направлении градиента, а не антиградиента)\n",
    "- [ ] Проанализируйте результаты. Предположите, с чем они связаны. Ответьте на вопросы:\n",
    "    - Чему равны значения экстремумов?\n",
    "    - При старте из какой начальной точки найденные экстремумы совпадут?\n",
    "\n",
    "\n"
   ]
  },
  {
   "cell_type": "code",
   "execution_count": 280,
   "metadata": {},
   "outputs": [],
   "source": [
    "import pandas as pd\n",
    "import numpy as np\n",
    "from tqdm import tqdm\n",
    "import time\n",
    "from sklearn.metrics import r2_score\n",
    "from sklearn.datasets import make_regression\n",
    "import matplotlib.pyplot as plt\n",
    "import seaborn as sns\n",
    "from sklearn.datasets import make_regression"
   ]
  },
  {
   "cell_type": "code",
   "execution_count": 120,
   "metadata": {
    "id": "HJbAEs3_-zet"
   },
   "outputs": [
    {
     "name": "stdout",
     "output_type": "stream",
     "text": [
      "----------------------------------------------------------------------\n",
      "x = 1\t| max = 1.604\t  f(x) = 1.839\t| min = 0.975\tf(x) = -0.867\n",
      "----------------------------------------------------------------------\n",
      "----------------------------------------------------------------------\n",
      "x = 0.5\t| max = 0.412\t  f(x) = 0.381\t| min = 0.975\tf(x) = -0.867\n",
      "----------------------------------------------------------------------\n",
      "----------------------------------------------------------------------\n",
      "x = 0\t| max = 0.0\t  f(x) = 0.0\t| min = 0.0\tf(x) = 0.0\n",
      "----------------------------------------------------------------------\n"
     ]
    }
   ],
   "source": [
    "# Функция и её производная\n",
    "def f(x):\n",
    "    return x * np.sin(5 * x) + 0.1 * x**2\n",
    "\n",
    "def df(x):\n",
    "    return np.sin(5 * x) + 5 * x * np.cos(5 * x) + 0.2 * x\n",
    "\n",
    "# Градиентный спуск c поиском минимума\n",
    "def gradient_descent_min(f, df, x0, eta, max_iter=1000, tol=1e-6):\n",
    "    x = x0\n",
    "    path = []\n",
    "    path.append(x)\n",
    "    for i in range(max_iter):\n",
    "        grad = df(x)\n",
    "        x = x - eta * grad\n",
    "        path.append(x)\n",
    "        if np.abs(grad) < tol:\n",
    "            break\n",
    "    return x, path\n",
    "\n",
    "# Градиентный спуск c поиском максимума\n",
    "def gradient_descent_max(f, df, x0, eta, max_iter=1000, tol=1e-6):\n",
    "    x = x0\n",
    "    path = []\n",
    "    path.append(x)\n",
    "    for i in range(max_iter):\n",
    "        grad = df(x)\n",
    "        x = x + eta * grad\n",
    "        path.append(x)\n",
    "        if np.abs(grad) < tol:\n",
    "            break\n",
    "    return x, path\n",
    "\n",
    "# Поиск экстремумов\n",
    "def find_points(f, df, x0, eta, max_iter=1000, tol=1e-6):\n",
    "    min_x, min_path = gradient_descent_min(f, df, x0, eta, max_iter, tol)\n",
    "    max_x, max_path = gradient_descent_max(f, df, x0, eta, max_iter, tol)\n",
    "    return min_x, max_x, min_path, max_path\n",
    "\n",
    "for x0 in [1, 0.5, 0]:\n",
    "    min_x, max_x, min_path, max_path = find_points(f, df, x0, 0.001)\n",
    "    print('-'*70)\n",
    "    print(f'x = {x0}\\t| max = {np.round(max_x,3)}\\t  f(x) = {np.round(f(max_x),3)}\\t| min = {np.round(min_x,3)}\\tf(x) = {np.round(f(min_x),3)}')\n",
    "    print('-'*70)"
   ]
  },
  {
   "cell_type": "markdown",
   "metadata": {
    "id": "lm6_Ln0GoliG"
   },
   "source": [
    "## Задание 3 (**0.5 балла**).\n",
    "Напишите функцию, вычисляющую значение весов в линейной регрессии по точной (аналитически найденной) формуле."
   ]
  },
  {
   "cell_type": "code",
   "execution_count": 153,
   "metadata": {},
   "outputs": [],
   "source": [
    "def ols_solution(X, y):\n",
    "    ''' w = (X^T * X)^(-1) * X^T * y '''\n",
    "\n",
    "    X = np.concatenate((np.ones((X.shape[0], 1)), X), axis=1)\n",
    "    w = np.linalg.inv(X.T.dot(X)).dot(X.T).dot(y)\n",
    "    return w"
   ]
  },
  {
   "cell_type": "markdown",
   "metadata": {
    "id": "_shCsTQ1pVcU"
   },
   "source": [
    "## Задание 5 (**1 балл**).\n",
    "Модифицируйте метод градиентного спуска с семинара так, чтобы это теперь был метод стохастического градиентного спуска."
   ]
  },
  {
   "cell_type": "code",
   "execution_count": 295,
   "metadata": {
    "id": "fTZWxz1zpb9R"
   },
   "outputs": [],
   "source": [
    "import numpy as np\n",
    "\n",
    "def compute_cost(X, y, theta):\n",
    "    m = len(y)\n",
    "    cost = (1./m) * (np.linalg.norm(X @ theta - y) ** 2)\n",
    "    return cost\n",
    "\n",
    "def stochastic_gradient_descent(X, y, learning_rate, iterations):\n",
    "    X = np.hstack((np.ones((X.shape[0], 1)), X))\n",
    "    params = np.random.rand(X.shape[1])\n",
    "    m = X.shape[0]\n",
    "    cost_track = np.zeros((iterations,1))\n",
    "\n",
    "    for i in range(iterations):\n",
    "        random_index = np.random.randint(low=0, high=len(X)-1)        \n",
    "        X_i = X[random_index, :].reshape(1, -1)\n",
    "        y_i = y[random_index]\n",
    "        gradient = (2 / m) * (X_i.T.dot(((X_i.dot(params)) - y_i)))\n",
    "        params = params - learning_rate * gradient\n",
    "        cost_track[i] = compute_cost(X, y, params)\n",
    "        \n",
    "    return cost_track, params"
   ]
  },
  {
   "cell_type": "markdown",
   "metadata": {
    "id": "WnRlUa9Npi9o"
   },
   "source": [
    "## Задание 6 (**3 балла**).\n",
    "* **(0 баллов)**. Скопируйте метод градиентного спуска из семинара в этот ноутбук.\n",
    "\n",
    "* **(0.5 балла)**. Обучите линейную регрессию на данных, сгенерированных ниже, тремя методами (по точной формуле, с помощью GD и с помощью SGD) на данных для задачи регрессии (см. код). Для GD и SGD используйте learning_rate = 0.01, iterations=10000.\n",
    "\n",
    "* **(0.5 балла)**. С помощью каждого метода сделайте предсказание (на всех данных), вычислите качество предсказания r2 (from sklearn.metrics import r2_score). Для получения предсказания можете использовать функцию predict с семинара.\n",
    "\n",
    "\n",
    "Ответьте на следующие вопросы (каждый вопрос - **0.5 балла**):\n",
    "\n",
    "1) все ли методы справились с нахождением минимума? если нет, то почему какой-то из методов не справился?\n",
    "\n",
    "2) сравните время работы методов (используйте библиотеку time): замеряйте время работы соответствующей написанной вами функции.\n",
    "\n",
    "3) для методов GD и SGD нарисуйте графики (для каждого свой) зависимости ошибки (loss) от номера итерации.\n",
    "\n",
    "4) какой метод успешнее всего справился с задачей? (т.е. r2 наибольший)."
   ]
  },
  {
   "cell_type": "code",
   "execution_count": 212,
   "metadata": {},
   "outputs": [],
   "source": [
    "def predict(X, w):\n",
    "    X = np.hstack((np.ones((X.shape[0], 1)), X))\n",
    "    return X @ w\n",
    "\n",
    "def compute_cost(X, y, theta):\n",
    "    m = len(y)\n",
    "\n",
    "    cost = (1./m) * (np.linalg.norm(X @ theta - y) ** 2)\n",
    "    return cost\n",
    "\n",
    "def gradient_descent(X, y, learning_rate, iterations):\n",
    "\n",
    "    X = np.hstack((np.ones((X.shape[0], 1)), X))\n",
    "    params = np.random.rand(X.shape[1])\n",
    "\n",
    "    m = X.shape[0]\n",
    "\n",
    "    cost_track = np.zeros((iterations,1))\n",
    "\n",
    "    for i in range(iterations):\n",
    "        params = params - 2./m * learning_rate * (X.T @ ((X @ params) - y))\n",
    "        cost_track[i] = compute_cost(X, y, params)\n",
    "\n",
    "    return cost_track, params"
   ]
  },
  {
   "cell_type": "code",
   "execution_count": 246,
   "metadata": {
    "id": "f1SE0-oUtVlO"
   },
   "outputs": [],
   "source": [
    "X, y, _ = make_regression(n_samples=100000,#number of samples\n",
    "                          n_features=10,#number of features\n",
    "                          n_informative=8,#number of useful features\n",
    "                          noise=100,#bias and standard deviation of the guassian noise\n",
    "                          coef=True,#true coefficient used to generated the data\n",
    "                          random_state=123)\n",
    "\n",
    "X = pd.DataFrame(data=X, columns=np.arange(0, X.shape[1]))\n",
    "X[10] = X[6] + X[7] + np.random.random()*0.01\n",
    "\n",
    "learning_rate = 0.01\n",
    "iterations=10000"
   ]
  },
  {
   "cell_type": "code",
   "execution_count": 286,
   "metadata": {},
   "outputs": [
    {
     "name": "stdout",
     "output_type": "stream",
     "text": [
      "CPU times: user 48.7 s, sys: 6.39 s, total: 55.1 s\n",
      "Wall time: 15.4 s\n"
     ]
    },
    {
     "data": {
      "text/plain": [
       "0.7554626185750483"
      ]
     },
     "execution_count": 286,
     "metadata": {},
     "output_type": "execute_result"
    },
    {
     "data": {
      "image/png": "[encoded data removed]",
      "text/plain": [
       "<Figure size 640x480 with 1 Axes>"
      ]
     },
     "metadata": {},
     "output_type": "display_data"
    }
   ],
   "source": [
    "%%time\n",
    "track_grad, w_grad = gradient_descent(X, y, 0.01, 10000)\n",
    "sns.lineplot(data=track_grad)\n",
    "r2_score(y, predict(X, w_grad))"
   ]
  },
  {
   "cell_type": "code",
   "execution_count": 287,
   "metadata": {},
   "outputs": [
    {
     "name": "stdout",
     "output_type": "stream",
     "text": [
      "CPU times: user 22.5 s, sys: 3 s, total: 25.5 s\n",
      "Wall time: 6.58 s\n"
     ]
    },
    {
     "data": {
      "text/plain": [
       "0.014863921098114186"
      ]
     },
     "execution_count": 287,
     "metadata": {},
     "output_type": "execute_result"
    },
    {
     "data": {
      "image/png": "[encoded data removed]",
      "text/plain": [
       "<Figure size 640x480 with 1 Axes>"
      ]
     },
     "metadata": {},
     "output_type": "display_data"
    }
   ],
   "source": [
    "%%time\n",
    "cost_track_sgd, params_sgd = stochastic_gradient_descent(X, y, learning_rate, iterations)\n",
    "sns.lineplot(data=cost_track_sgd)\n",
    "r2_score(y, predict(X, params_sgd))"
   ]
  },
  {
   "cell_type": "code",
   "execution_count": 269,
   "metadata": {},
   "outputs": [
    {
     "data": {
      "text/plain": [
       "0.7547725341340813"
      ]
     },
     "execution_count": 269,
     "metadata": {},
     "output_type": "execute_result"
    }
   ],
   "source": [
    "os = ols_solution(X=X, y=y)\n",
    "r2_score(y, prediction(X=X, w=os))"
   ]
  },
  {
   "cell_type": "markdown",
   "metadata": {
    "id": "2zrdVgQrtcAn"
   },
   "source": [
    "По аналитической формуле наблюдалась проблема - Singular matrix. \n",
    "Связано с np.linalg.inv. попадалась каждый когда матрица была одинаковой на вход этого метода.\n",
    "Получилось побороть обновлением данных и жестким прописыванием параметров на вход.\n",
    "\n",
    "Быстрее всех отработала ols_solution, а дольше всех градиентный спуск.\n",
    "\n",
    "Лучшее качество у градиентного спуска."
   ]
  },
  {
   "cell_type": "markdown",
   "metadata": {
    "id": "wYmzzJVV54zT"
   },
   "source": [
    "## Задание 7 (1.5 балла).\n",
    "\n",
    "* **(0.5 балла)**. Добавьте в функцию из задания 5 L2-регуляризацию и, соответственно, новый аргумент - коэффициент при регуляризаторе.\n",
    "\n",
    "* **(1 балл)**. На сгенерированных выше данных обучите модифицированный алгоритм SGD с регуляризацией: в цикле перебирайте значения коэффициента регуляризации от 0.1 до 1 с шагом 0.1. Для каждого значения обучите модель и сделайте предсказание, выведите значение r2. Для какого значения коэффициента регуляризации получилось наилучшее качество r2, почему?"
   ]
  },
  {
   "cell_type": "code",
   "execution_count": 299,
   "metadata": {
    "id": "b_hC1Ehi612d"
   },
   "outputs": [],
   "source": [
    "import numpy as np\n",
    "\n",
    "def compute_cost(X, y, theta):\n",
    "    m = len(y)\n",
    "    cost = (1./m) * (np.linalg.norm(X @ theta - y) ** 2)\n",
    "    return cost\n",
    "\n",
    "def stochastic_gradient_descent_r2(X, y, learning_rate, iterations, regul):\n",
    "    X = np.hstack((np.ones((X.shape[0], 1)), X))\n",
    "    params = np.random.rand(X.shape[1])\n",
    "    m = X.shape[0]\n",
    "    cost_track = np.zeros((iterations,1))\n",
    "\n",
    "    for i in range(iterations):\n",
    "        random_index = np.random.randint(low=0, high=len(X)-1)        \n",
    "        X_i = X[random_index, :].reshape(1, -1)\n",
    "        y_i = y[random_index]\n",
    "        gradient = (2 / m) * (X_i.T.dot(((X_i.dot(params)) - y_i))) + (2 * regul * params)\n",
    "        params = params - learning_rate * gradient\n",
    "        cost_track[i] = compute_cost(X, y, params)\n",
    "        \n",
    "    return cost_track, params"
   ]
  },
  {
   "cell_type": "code",
   "execution_count": 315,
   "metadata": {},
   "outputs": [
    {
     "name": "stdout",
     "output_type": "stream",
     "text": [
      "R2=0.000275854646853424 при значении 0.1\n",
      "R2=0.00015278313972177937 при значении 0.2\n",
      "R2=0.00010115339110050581 при значении 0.30000000000000004\n",
      "R2=5.7264983849725226e-05 при значении 0.4\n",
      "R2=6.570196964850172e-05 при значении 0.5\n",
      "R2=3.862344679728125e-05 при значении 0.6\n",
      "R2=4.2942517618715925e-05 при значении 0.7000000000000001\n",
      "R2=3.200713644158082e-05 при значении 0.8\n",
      "R2=2.8029524339112655e-05 при значении 0.9\n",
      "R2=1.4382534753831777e-05 при значении 1.0\n"
     ]
    }
   ],
   "source": [
    "for reg in np.arange(0.1, 1.1, 0.1):\n",
    "    cost_track_sgd, params_sgd = stochastic_gradient_descent_r2(X, y, learning_rate, iterations, reg)    \n",
    "    print(f'R2={r2_score(y, predict(X, params_sgd))} при значении {reg}')"
   ]
  },
  {
   "cell_type": "markdown",
   "metadata": {},
   "source": [
    "Изнчально метод показывал худшие R2. при первом значении (0.1) получилось увидеть лучший результат из всего цикла."
   ]
  },
  {
   "cell_type": "markdown",
   "metadata": {
    "id": "zMUiRyCiCB3E"
   },
   "source": [
    "## Задание 8 (2 балла)\n",
    "\n",
    "Реализуйте на выбор одну из оптимизаций градиентного спуска - Momentum или  AdaGrad. Необходимые выкладки вы можете подсмотреть [здесь](https://education.yandex.ru/handbook/ml/article/optimizaciya-v-ml)."
   ]
  },
  {
   "cell_type": "code",
   "execution_count": 322,
   "metadata": {},
   "outputs": [],
   "source": [
    "import numpy as np\n",
    "import random\n",
    "\n",
    "def compute_cost(X, y, params):\n",
    "    m = len(y)\n",
    "    predictions = X @ params\n",
    "    cost = (1 / m) * np.sum((predictions - y) ** 2)\n",
    "    return cost\n",
    "\n",
    "def gsAdaGrad(X, targets, learning_rate, num_iterations, epsilon=1e-8):\n",
    "    X = np.hstack((np.ones((X.shape[0], 1)), X))\n",
    "    params = np.random.rand(X.shape[1])\n",
    "    grad = np.zeros_like(params)\n",
    "    cost_history = np.zeros((num_iterations, 1))\n",
    "    \n",
    "    for iteration in range(num_iterations):\n",
    "        ind = random.randint(0, len(X) - 1)\n",
    "        feature_sample = X[ind]\n",
    "        pred_error = np.dot(feature_sample, params) - targets[ind]\n",
    "        grad = grad +  (2 * feature_sample.T * pred_error) ** 2\n",
    "        params -= (learning_rate * (2 * feature_sample.T * pred_error)) / (np.sqrt(grad) + epsilon)\n",
    "        cost_history[iteration] = compute_cost(X, targets, params)\n",
    "    \n",
    "    return cost_history, params"
   ]
  },
  {
   "cell_type": "markdown",
   "metadata": {
    "id": "tP182Wbyh8xg"
   },
   "source": [
    "## Бонус\n",
    "\n",
    "## Задание 9 (0.5 балла)\n",
    "\n",
    "Существует [метод Ньютона](https://en.wikipedia.org/wiki/Newton%27s_method_in_optimization) (метод второго порядка) для поиска минимума функции.\n",
    "\n",
    "Известно, что методы второго порядка точнее, чем методы первого порядка (то есть те, которые используют только первую производную для оптимизации). Как вы думаете, почему в оптимизации функций потерь все формулы используют только производные первого порядка? Почему не используют метод Ньютона?"
   ]
  },
  {
   "cell_type": "markdown",
   "metadata": {
    "id": "QBHOY5Ngi_C2"
   },
   "source": [
    "`Ответ:`\n",
    "\n",
    "Думаю в первую очередь все зависит от потребностей бизнеса.\n",
    "Как правило легкие, быстрые и простые решения ценятся значительно выше. Метод Ньютона имеет сложную вычислительную сложность, а при больших количествах параметров и значительно медленную скорость выполнения."
   ]
  },
  {
   "cell_type": "markdown",
   "metadata": {
    "id": "u7hKRuViF7hv"
   },
   "source": [
    "## **Часть Котобонус** 🐈\n",
    "\n",
    "Ура-ура, с вами снова кот, который может добавить вам баллы!\n",
    "- 0.25, если вы угадаете, чей он\n",
    "- 0.05 если просто предположите\n",
    "\n",
    "**Подсказка:** кот одной из наших замечательных ассистенток!\n",
    "\n",
    "\n",
    "[Кайфующий кот](https://ibb.co/qxjz2tp)"
   ]
  },
  {
   "cell_type": "markdown",
   "metadata": {
    "id": "Hchpz56wGEzA"
   },
   "source": [
    "Думаю это кот Елены Кантонистовой."
   ]
  }
 ],
 "metadata": {
  "colab": {
   "include_colab_link": true,
   "provenance": []
  },
  "kernelspec": {
   "display_name": "Python 3 (ipykernel)",
   "language": "python",
   "name": "python3"
  },
  "language_info": {
   "codemirror_mode": {
    "name": "ipython",
    "version": 3
   },
   "file_extension": ".py",
   "mimetype": "text/x-python",
   "name": "python",
   "nbconvert_exporter": "python",
   "pygments_lexer": "ipython3",
   "version": "3.9.20"
  }
 },
 "nbformat": 4,
 "nbformat_minor": 4
}
